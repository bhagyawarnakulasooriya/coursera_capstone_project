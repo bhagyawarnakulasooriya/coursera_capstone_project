{
 "cells": [
  {
   "cell_type": "markdown",
   "metadata": {},
   "source": [
    "# Predicting the religion distribution of Australian suburb towns"
   ]
  },
  {
   "cell_type": "markdown",
   "metadata": {},
   "source": [
    "Bhagya Warnakulasooriya\n",
    "\n",
    "August 22,2020"
   ]
  },
  {
   "cell_type": "markdown",
   "metadata": {},
   "source": [
    "## Introduction"
   ]
  },
  {
   "cell_type": "markdown",
   "metadata": {},
   "source": [
    "Politics is a blend of the government, political parties and the politicians of a country. In Australia, the political discourse has an apperent influence on the life of people, including immigration, cost of housing, the freedom and rights of an individual and many more.  \n",
    "\n",
    "As stated by Winston Churchill, \"Politics is not a game, but a serious business\". Political parties have both long term and short term plans, when preparing for their propaganda. They consider various factors such as average income per person, religion distribution, employment distribution, natural resources distribution,  in each area for an insightful planning. They take the advantage of each factor when appointing candidates for an area, organizing meetings, workshops, other volunteer work etc. \n",
    "\n",
    "My project focuses on predicting the religion distribution of the suburb towns in Australia by categorizing them into clusters considering the most common religious venues in each town which would help the future campaigns of a political party. "
   ]
  },
  {
   "cell_type": "markdown",
   "metadata": {},
   "source": [
    "## Data"
   ]
  },
  {
   "cell_type": "markdown",
   "metadata": {},
   "source": [
    "Information on all Australian towns were downloaded as a csv file from https://www.australiantownslist.com. This includes geographical data (latitude and longitude coordinates), name, state, postal code, type(whether it is urban or a suburb), population, median income, area etc. Only the suburbs were considered. Popular Foursquare API was used to grab the religious venues around a 2km radius of each suburb town. "
   ]
  },
  {
   "cell_type": "markdown",
   "metadata": {},
   "source": [
    "## Methodology"
   ]
  },
  {
   "cell_type": "markdown",
   "metadata": {},
   "source": [
    "Data cleaning was done at first. The towns with zero population was removed from the dataframe. Since only the suburbs were considered, the towns which falls under suburbs were filtered out of the dataframe which led to a total of 127. All the suburb towns were fallen under eight states, namely, Western Australia, New South Wales, Victoria, South Australia, Queensland, Australian Capital Territory, Tasmania and Northern Territory.    \n",
    "\n",
    "The latitude and longitude coordinate of each town was readily available in the dataframe and the basic need was to grab only the name of the town and its corresponding coordinates. But I could not opt out the state which each town belongs to, because there were towns which had the same name, but falls under different states. Although these types of towns have different geographical coordinates, for later coding purposes, continuing with both the name and the state was convenient.\n",
    "\n",
    "Folium was used to map the suburb towns. While itereting through the dataframe, the GET requests were made to Foursqaure in order to get only the religious venue categories around each suburb town. The religious venue categories of each town was fed into a another dataframe along with their venue name, venue latitude and venue longitude. \n",
    "\n",
    "<img src=\"files/imgs/venue_category_table.png\">\n",
    "\n",
    "Surprisingly, this dataframe contained venue categories which are not religious venues. This is because when we are considering the latitude and longitude of a specific point, foursquare may capture many venue categories.\n",
    "For example a building could have a church at the ground floor while having a restaurant in an upper floor. So I had to filter only the religious venues from the foursquare json results for each town.\n",
    "\n",
    "One hot encoding was used. The number of venues which falls under a specific venue category for each town was counted. \n",
    "\n",
    "<img src=\"files/imgs/one_hot_encoding.png\">\n",
    "\n",
    "Popular machine learning technique, K-Means Clustering was used to cluster the suburb towns based on their religious venue distribution. Here the optimal value for K was found using the elbow method and it turned out to be 3. \n",
    "\n",
    "<img src=\"files/imgs/elbow_method.png\"> \n",
    "\n",
    "Each cluster was further analysed considering the number of religious venue categories belonging to the cluster."
   ]
  },
  {
   "cell_type": "markdown",
   "metadata": {},
   "source": [
    "## Results"
   ]
  },
  {
   "cell_type": "markdown",
   "metadata": {},
   "source": [
    "The below dataframe depicts the cluster labels of each suburb town. The first, second, third, fourth and fifth most common venues for each town were also included in this dataframe to be more informative.\n",
    "\n",
    "<img src=\"files/imgs/cluster_distribution.png\">\n",
    "\n",
    "For instance the cluster distribution of suburb towns around Melbourne was as follows:\n",
    "\n",
    "<img src=\"files/imgs/Melbourne.png\">\n",
    "\n",
    "A pictorial representation of the religious venue categories in each cluster could be more effective in understanding the religion distribution in them.\n",
    "\n",
    "<img src=\"files/imgs/venue_distribution_cluster_0.png\">\n",
    "<img src=\"files/imgs/venue_distribution_cluster_1.png\">\n",
    "<img src=\"files/imgs/venue_distribution_cluster_2.png\">\n",
    "\n",
    "The highlighting factor is that every cluster contains around 75% churches. Considering the remaining 25%, this 25% also contains venue categories that does not predict any specific religion. Namely, 'Temples' and 'Spiritual Centers'. \n",
    "By the way, the majority of every cluster is possesed by the christians/catholics. So the distribution of each cluster excluding the churches would account to a more clear picture about the minor religion disrtibution.\n",
    "\n",
    "<img src=\"files/imgs/cluster0_churches_excluded.png\">\n",
    "\n",
    "When examine cluster 0, Mosques are of large amount regardless of the spiritual centers and temples. Thus, the majority here is islams. As Hindu Temples and shrines accomponies with Hindu religion, second comes the Hindus. Then comes Buddhism, Sikh religion and the Jewish respectively.\n",
    "\n",
    "<img src=\"files/imgs/cluster1_churches_excluded.png\">\n",
    "\n",
    "According to the above pie chart, it is easy to figure out that majority is covered by Mosques reperesenting the Islams. Pretty much Jewish are here compared to cluster 0 which become the second most religion of this cluster. Third comes the Hindus together with 7% of venues(Hindu Temples and Shrines) for their religion. The least contribution is by Buddhists.\n",
    "\n",
    "<img src=\"files/imgs/cluster2_churches_excluded.png\">\n",
    "\n",
    "Exploring the last cluster rather come up with the same islamic majority. Apart from Islams, the other religions that counts for this cluster are only Buddism and jewish.\n"
   ]
  },
  {
   "cell_type": "markdown",
   "metadata": {},
   "source": [
    "## Discussion"
   ]
  },
  {
   "cell_type": "markdown",
   "metadata": {},
   "source": [
    "When classifying objects into clusters, the objects within the cluster should share similar characteristics while the objects in different clusters being solely distinguishable. Although the clusters here seems to be similar with about 75% of churches and around 25% of other religious venues, the difference among the clusters is based on the 25% of venues which contributes to the minor religions. \n",
    "\n",
    "When studying the minor representation, Islam becomes the top most common religion in all three clusters. In cluster 0, there is a diverse of religions including Hindu, Buddism, Sikh religion and Jewish. Cluster 1 consists of \n",
    "the Jewish, Hindu and Buddhism with considerable aomunt of Jewish. In contrast, cluster 2 does not contain Hindus and has equal amounts of Jewish and Buddhists and is the least diverse cluster.\n",
    "\n",
    "It is fair enough to assume that religious destribution is strongly correlated with the amount of religious venues for each religion in a town. For example, if there are more mosques, then more islams live there.\n",
    "\n",
    "In a nutshell, regardless of the majorities; Christian/catholic and Islam, towns of cluster 0 has a variety of religions and cluter 1 with more Jews and Hindus while cluster 2 with Jews and Buddists. "
   ]
  },
  {
   "cell_type": "markdown",
   "metadata": {},
   "source": [
    "## Conclusion"
   ]
  },
  {
   "cell_type": "markdown",
   "metadata": {},
   "source": [
    "In this study, the suburb towns of Australia were categorized into three clusters depending on the religious venue distribution of each town using 'K-Means Clustering'. The venue distribution of each cluster was then considered and used to predict the religion distribution of the three clusters. Thus, a political party could have an idea about the religion distribution of each town by figuring out, which cluster this town belongs to.\n",
    "\n",
    "I reccomend that a political party would consider each cluster with Christian/catholic as the top most religion and the Islam being the second while the minority being multi-religions in cluster 0, more Jews and Hindus in cluster 1 and Jews and Buddists in cluster 2. By the way, a political party could organize similar campaigns in towns which belongs to the same cluster and consider the religion distribution of each town to make important dicisions in their future endeavors."
   ]
  }
 ],
 "metadata": {
  "kernelspec": {
   "display_name": "Python 3",
   "language": "python",
   "name": "python3"
  },
  "language_info": {
   "codemirror_mode": {
    "name": "ipython",
    "version": 3
   },
   "file_extension": ".py",
   "mimetype": "text/x-python",
   "name": "python",
   "nbconvert_exporter": "python",
   "pygments_lexer": "ipython3",
   "version": "3.8.5"
  }
 },
 "nbformat": 4,
 "nbformat_minor": 4
}
